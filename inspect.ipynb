{
 "cells": [
  {
   "cell_type": "code",
   "execution_count": 1,
   "id": "98a6db1c",
   "metadata": {},
   "outputs": [],
   "source": [
    "import pandas as pd"
   ]
  },
  {
   "cell_type": "code",
   "execution_count": 2,
   "id": "2c6f83d8",
   "metadata": {},
   "outputs": [],
   "source": [
    "data = pd.read_csv('record.csv')"
   ]
  },
  {
   "cell_type": "code",
   "execution_count": 3,
   "id": "dd0d1638",
   "metadata": {},
   "outputs": [
    {
     "name": "stdout",
     "output_type": "stream",
     "text": [
      "   Unnamed: 0      blocks    block_rate  request_time\n",
      "0           0  1648034457  1.380057e+06  1.648034e+09\n",
      "1           1  1648034459  9.200486e+05  1.648034e+09\n",
      "2           2  1648034460  9.200486e+05  1.648034e+09\n"
     ]
    }
   ],
   "source": [
    "print(data)"
   ]
  },
  {
   "cell_type": "code",
   "execution_count": 4,
   "id": "8153e127",
   "metadata": {},
   "outputs": [
    {
     "data": {
      "text/plain": [
       "0    1.648034e+09\n",
       "1    1.648034e+09\n",
       "2    1.648034e+09\n",
       "Name: request_time, dtype: float64"
      ]
     },
     "execution_count": 4,
     "metadata": {},
     "output_type": "execute_result"
    }
   ],
   "source": [
    "data['request_time']"
   ]
  },
  {
   "cell_type": "code",
   "execution_count": null,
   "id": "265e56ac",
   "metadata": {},
   "outputs": [],
   "source": []
  }
 ],
 "metadata": {
  "kernelspec": {
   "display_name": "Python 3.9.5 64-bit ('base': conda)",
   "language": "python",
   "name": "python395jvsc74a57bd0320a853a5b8fea2d9b3535e709b46de256c72c4dfa4add6a636afb957ba06831"
  },
  "language_info": {
   "codemirror_mode": {
    "name": "ipython",
    "version": 3
   },
   "file_extension": ".py",
   "mimetype": "text/x-python",
   "name": "python",
   "nbconvert_exporter": "python",
   "pygments_lexer": "ipython3",
   "version": "3.9.5"
  }
 },
 "nbformat": 4,
 "nbformat_minor": 5
}
